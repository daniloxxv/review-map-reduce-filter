{
 "cells": [
  {
   "cell_type": "markdown",
   "metadata": {},
   "source": [
    "# Class Review - Map, Reduce and Filter\n",
    "\n",
    "\n",
    "## 1. Map\n",
    "\n",
    "The `map` function usually receives two parameters. The first one is a function. The second one is an iterable (usually a list or a tuple). What `map` does is apply the function to all the elements in the iterable and return another iterable with the results. \n",
    "\n",
    "The terminology might be a bit confusing, but the idea is simple. Let's look at a couple of examples:"
   ]
  },
  {
   "cell_type": "code",
   "execution_count": 1,
   "metadata": {},
   "outputs": [],
   "source": [
    "nums = [1,2,3,4,5]\n",
    "\n",
    "def double(n):\n",
    "    return n*2"
   ]
  },
  {
   "cell_type": "markdown",
   "metadata": {},
   "source": [
    "In the code block above we have a list of numbers and a function that takes a single number and returns the same number multiplied by two. \n",
    "\n",
    "If we wanted to apply the function to each number in our `nums` list, we could use a `for` loop:"
   ]
  },
  {
   "cell_type": "code",
   "execution_count": 2,
   "metadata": {},
   "outputs": [
    {
     "name": "stdout",
     "output_type": "stream",
     "text": [
      "[2, 4, 6, 8, 10]\n"
     ]
    }
   ],
   "source": [
    "result = []\n",
    "for n in nums:\n",
    "    result.append(double(n))\n",
    "print(result)"
   ]
  },
  {
   "cell_type": "markdown",
   "metadata": {},
   "source": [
    "We could also use a list comprehension to achieve the same result:"
   ]
  },
  {
   "cell_type": "code",
   "execution_count": 9,
   "metadata": {},
   "outputs": [
    {
     "name": "stdout",
     "output_type": "stream",
     "text": [
      "[2, 4, 6, 8, 10]\n"
     ]
    }
   ],
   "source": [
    "result = [double(n) for n in nums]\n",
    "print(result)"
   ]
  },
  {
   "cell_type": "markdown",
   "metadata": {},
   "source": [
    "Map allows us to do the same thing, with a couple of key differences:"
   ]
  },
  {
   "cell_type": "code",
   "execution_count": 10,
   "metadata": {},
   "outputs": [
    {
     "name": "stdout",
     "output_type": "stream",
     "text": [
      "[2, 4, 6, 8, 10]\n"
     ]
    }
   ],
   "source": [
    "result = list(map(double,nums))\n",
    "print(result)"
   ]
  },
  {
   "cell_type": "markdown",
   "metadata": {},
   "source": [
    "The syntax is more concise: we don't have to use a `for`, assign elements of `nums` to the `n` variable or call the `double` function, since `map` does that job for us. \n",
    "\n",
    "Another key difference is that `map` does not return a list by default: we need to convert the result to a list in order to see the changes we would expect. Let's look at what would happen if we just printed the `map` result above, without converting it to a list:"
   ]
  },
  {
   "cell_type": "code",
   "execution_count": 11,
   "metadata": {},
   "outputs": [
    {
     "name": "stdout",
     "output_type": "stream",
     "text": [
      "<map object at 0x7fb8357d1320>\n"
     ]
    }
   ],
   "source": [
    "result = map(double,nums)\n",
    "print(result)"
   ]
  },
  {
   "cell_type": "markdown",
   "metadata": {},
   "source": [
    "`map object`... Now what is that?\n",
    "\n",
    "A `map object` is a type of iterator. Without going into too much detail, an iterator is an object which contains a number of values. Unlike a list or tuple, however, in iterators we can only access one value at a time. We do that by using the `next` method:"
   ]
  },
  {
   "cell_type": "code",
   "execution_count": 13,
   "metadata": {},
   "outputs": [
    {
     "ename": "StopIteration",
     "evalue": "",
     "output_type": "error",
     "traceback": [
      "\u001b[0;31m---------------------------------------------------------------------------\u001b[0m",
      "\u001b[0;31mStopIteration\u001b[0m                             Traceback (most recent call last)",
      "\u001b[0;32m<ipython-input-13-709396a5599b>\u001b[0m in \u001b[0;36m<module>\u001b[0;34m\u001b[0m\n\u001b[0;32m----> 1\u001b[0;31m \u001b[0mnext\u001b[0m\u001b[0;34m(\u001b[0m\u001b[0mresult\u001b[0m\u001b[0;34m)\u001b[0m\u001b[0;34m\u001b[0m\u001b[0;34m\u001b[0m\u001b[0m\n\u001b[0m",
      "\u001b[0;31mStopIteration\u001b[0m: "
     ]
    }
   ],
   "source": [
    "next(result)"
   ]
  },
  {
   "cell_type": "markdown",
   "metadata": {},
   "source": [
    "As we can see, `next(result)` gave us the first element in our `result` map object. If we continue using `next`, we can get the rest of the values:"
   ]
  },
  {
   "cell_type": "code",
   "execution_count": 12,
   "metadata": {},
   "outputs": [
    {
     "name": "stdout",
     "output_type": "stream",
     "text": [
      "2\n",
      "4\n",
      "6\n",
      "8\n",
      "10\n"
     ]
    }
   ],
   "source": [
    "print(next(result))\n",
    "print(next(result))\n",
    "print(next(result))\n",
    "print(next(result))"
   ]
  },
  {
   "cell_type": "markdown",
   "metadata": {},
   "source": [
    "We have arrived at the last value of our iterator. Using `next` again would throw a `StopIteration` exception. "
   ]
  },
  {
   "cell_type": "code",
   "execution_count": null,
   "metadata": {},
   "outputs": [],
   "source": [
    "print(next(result))"
   ]
  },
  {
   "cell_type": "markdown",
   "metadata": {},
   "source": [
    "Iterators can be quite useful when dealing with a very large number of items, for example: if our iterator contains one million values and we only need the first 100, there's no point in spending processing power and memory to generate a list of one million elements. Using an iterator would be a lot more efficient in those situations.\n",
    "\n",
    "Again, there's no need to get into too much detail: most of the time we'll just convert the map object into a list instead of using it as an iterator."
   ]
  },
  {
   "cell_type": "markdown",
   "metadata": {},
   "source": [
    "## 2. Filter\n",
    "\n",
    "Much like `map`, the `filter` function also receives two parameters. The first parameter is a *filtering function*; the second parameter is an iterable (usually a tuple or a list). \n",
    "\n",
    "The *filtering function* will receive an element of the list and return a boolean (`True` or `False`) depending on whether the element fulfills a certain condition. `filter` will then return an iterator containing only the elemens of the list for which the filtering function returned `True`.\n",
    "\n",
    "Let's see how this would work in practice. "
   ]
  },
  {
   "cell_type": "code",
   "execution_count": 14,
   "metadata": {},
   "outputs": [
    {
     "name": "stdout",
     "output_type": "stream",
     "text": [
      "[2, 4, 6, 8, 10]\n"
     ]
    }
   ],
   "source": [
    "nums = [1,2,3,4,5,6,7,8,9,10]\n",
    "\n",
    "def no_odds(n):\n",
    "    return n % 2 == 0"
   ]
  },
  {
   "cell_type": "code",
   "execution_count": null,
   "metadata": {},
   "outputs": [],
   "source": []
  }
 ],
 "metadata": {
  "kernelspec": {
   "display_name": "Python 3",
   "language": "python",
   "name": "python3"
  },
  "language_info": {
   "codemirror_mode": {
    "name": "ipython",
    "version": 3
   },
   "file_extension": ".py",
   "mimetype": "text/x-python",
   "name": "python",
   "nbconvert_exporter": "python",
   "pygments_lexer": "ipython3",
   "version": "3.7.3"
  }
 },
 "nbformat": 4,
 "nbformat_minor": 2
}
